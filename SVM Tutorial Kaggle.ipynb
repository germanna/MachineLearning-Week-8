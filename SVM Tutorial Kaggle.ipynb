{
  "nbformat": 4,
  "nbformat_minor": 0,
  "metadata": {
    "colab": {
      "name": "Untitled6.ipynb",
      "provenance": [],
      "authorship_tag": "ABX9TyP+aDHolkz/76aqyolkzVyg",
      "include_colab_link": true
    },
    "kernelspec": {
      "name": "python3",
      "display_name": "Python 3"
    },
    "language_info": {
      "name": "python"
    }
  },
  "cells": [
    {
      "cell_type": "markdown",
      "metadata": {
        "id": "view-in-github",
        "colab_type": "text"
      },
      "source": [
        "<a href=\"https://colab.research.google.com/github/germanna/MachineLearning-Week-8/blob/main/SVM%20Tutorial%20Kaggle.ipynb\" target=\"_parent\"><img src=\"https://colab.research.google.com/assets/colab-badge.svg\" alt=\"Open In Colab\"/></a>"
      ]
    },
    {
      "cell_type": "code",
      "execution_count": 4,
      "metadata": {
        "id": "eQXdXSibcJj5"
      },
      "outputs": [],
      "source": [
        "import numpy as np # linear algebra\n",
        "import pandas as pd # data processing, CSV file I/O (e.g. pd.read_csv)\n",
        "import matplotlib.pyplot as plt # for data visualization\n",
        "import seaborn as sns # for statistical data visualization\n",
        "from matplotlib.colors import ListedColormap\n",
        "\n",
        "#cek missing values\n",
        "import missingno as msno\n",
        "from sklearn.svm import SVC\n",
        "from sklearn.model_selection import train_test_split\n",
        "\n",
        "from sklearn.model_selection import cross_val_score,StratifiedKFold,LeaveOneOut\n",
        "from sklearn.dummy import DummyClassifier\n",
        "\n",
        "from sklearn.svm import LinearSVC\n",
        "from sklearn.svm import SVR\n",
        "from sklearn.model_selection import GridSearchCV\n",
        "\n",
        "\n",
        "%matplotlib inline"
      ]
    },
    {
      "cell_type": "markdown",
      "source": [
        "Import Dataset"
      ],
      "metadata": {
        "id": "W5OpJSrFcRI8"
      }
    },
    {
      "cell_type": "code",
      "source": [
        "# A.DATA PREPROCESSING\n",
        "# save filepath to variable for easier access\n",
        "train_file_path = 'dataset/train (1).csv'\n",
        "test_file_path = 'dataset/test (1).csv'\n",
        "df = pd.read_csv(train_file_path)\n",
        "test = pd.read_csv(test_file_path)\n",
        "df.head()"
      ],
      "metadata": {
        "colab": {
          "base_uri": "https://localhost:8080/",
          "height": 450
        },
        "id": "drd-NOSmcRtR",
        "outputId": "5e3f0a50-7044-410e-c14e-ec7995fcdbf2"
      },
      "execution_count": 5,
      "outputs": [
        {
          "output_type": "error",
          "ename": "FileNotFoundError",
          "evalue": "ignored",
          "traceback": [
            "\u001b[0;31m---------------------------------------------------------------------------\u001b[0m",
            "\u001b[0;31mFileNotFoundError\u001b[0m                         Traceback (most recent call last)",
            "\u001b[0;32m<ipython-input-5-1afebf5e0a70>\u001b[0m in \u001b[0;36m<module>\u001b[0;34m()\u001b[0m\n\u001b[1;32m      3\u001b[0m \u001b[0mtrain_file_path\u001b[0m \u001b[0;34m=\u001b[0m \u001b[0;34m'dataset/train (1).csv'\u001b[0m\u001b[0;34m\u001b[0m\u001b[0;34m\u001b[0m\u001b[0m\n\u001b[1;32m      4\u001b[0m \u001b[0mtest_file_path\u001b[0m \u001b[0;34m=\u001b[0m \u001b[0;34m'dataset/test (1).csv'\u001b[0m\u001b[0;34m\u001b[0m\u001b[0;34m\u001b[0m\u001b[0m\n\u001b[0;32m----> 5\u001b[0;31m \u001b[0mdf\u001b[0m \u001b[0;34m=\u001b[0m \u001b[0mpd\u001b[0m\u001b[0;34m.\u001b[0m\u001b[0mread_csv\u001b[0m\u001b[0;34m(\u001b[0m\u001b[0mtrain_file_path\u001b[0m\u001b[0;34m)\u001b[0m\u001b[0;34m\u001b[0m\u001b[0;34m\u001b[0m\u001b[0m\n\u001b[0m\u001b[1;32m      6\u001b[0m \u001b[0mtest\u001b[0m \u001b[0;34m=\u001b[0m \u001b[0mpd\u001b[0m\u001b[0;34m.\u001b[0m\u001b[0mread_csv\u001b[0m\u001b[0;34m(\u001b[0m\u001b[0mtest_file_path\u001b[0m\u001b[0;34m)\u001b[0m\u001b[0;34m\u001b[0m\u001b[0;34m\u001b[0m\u001b[0m\n\u001b[1;32m      7\u001b[0m \u001b[0mdf\u001b[0m\u001b[0;34m.\u001b[0m\u001b[0mhead\u001b[0m\u001b[0;34m(\u001b[0m\u001b[0;34m)\u001b[0m\u001b[0;34m\u001b[0m\u001b[0;34m\u001b[0m\u001b[0m\n",
            "\u001b[0;32m/usr/local/lib/python3.7/dist-packages/pandas/io/parsers.py\u001b[0m in \u001b[0;36mread_csv\u001b[0;34m(filepath_or_buffer, sep, delimiter, header, names, index_col, usecols, squeeze, prefix, mangle_dupe_cols, dtype, engine, converters, true_values, false_values, skipinitialspace, skiprows, skipfooter, nrows, na_values, keep_default_na, na_filter, verbose, skip_blank_lines, parse_dates, infer_datetime_format, keep_date_col, date_parser, dayfirst, cache_dates, iterator, chunksize, compression, thousands, decimal, lineterminator, quotechar, quoting, doublequote, escapechar, comment, encoding, dialect, error_bad_lines, warn_bad_lines, delim_whitespace, low_memory, memory_map, float_precision)\u001b[0m\n\u001b[1;32m    686\u001b[0m     )\n\u001b[1;32m    687\u001b[0m \u001b[0;34m\u001b[0m\u001b[0m\n\u001b[0;32m--> 688\u001b[0;31m     \u001b[0;32mreturn\u001b[0m \u001b[0m_read\u001b[0m\u001b[0;34m(\u001b[0m\u001b[0mfilepath_or_buffer\u001b[0m\u001b[0;34m,\u001b[0m \u001b[0mkwds\u001b[0m\u001b[0;34m)\u001b[0m\u001b[0;34m\u001b[0m\u001b[0;34m\u001b[0m\u001b[0m\n\u001b[0m\u001b[1;32m    689\u001b[0m \u001b[0;34m\u001b[0m\u001b[0m\n\u001b[1;32m    690\u001b[0m \u001b[0;34m\u001b[0m\u001b[0m\n",
            "\u001b[0;32m/usr/local/lib/python3.7/dist-packages/pandas/io/parsers.py\u001b[0m in \u001b[0;36m_read\u001b[0;34m(filepath_or_buffer, kwds)\u001b[0m\n\u001b[1;32m    452\u001b[0m \u001b[0;34m\u001b[0m\u001b[0m\n\u001b[1;32m    453\u001b[0m     \u001b[0;31m# Create the parser.\u001b[0m\u001b[0;34m\u001b[0m\u001b[0;34m\u001b[0m\u001b[0;34m\u001b[0m\u001b[0m\n\u001b[0;32m--> 454\u001b[0;31m     \u001b[0mparser\u001b[0m \u001b[0;34m=\u001b[0m \u001b[0mTextFileReader\u001b[0m\u001b[0;34m(\u001b[0m\u001b[0mfp_or_buf\u001b[0m\u001b[0;34m,\u001b[0m \u001b[0;34m**\u001b[0m\u001b[0mkwds\u001b[0m\u001b[0;34m)\u001b[0m\u001b[0;34m\u001b[0m\u001b[0;34m\u001b[0m\u001b[0m\n\u001b[0m\u001b[1;32m    455\u001b[0m \u001b[0;34m\u001b[0m\u001b[0m\n\u001b[1;32m    456\u001b[0m     \u001b[0;32mif\u001b[0m \u001b[0mchunksize\u001b[0m \u001b[0;32mor\u001b[0m \u001b[0miterator\u001b[0m\u001b[0;34m:\u001b[0m\u001b[0;34m\u001b[0m\u001b[0;34m\u001b[0m\u001b[0m\n",
            "\u001b[0;32m/usr/local/lib/python3.7/dist-packages/pandas/io/parsers.py\u001b[0m in \u001b[0;36m__init__\u001b[0;34m(self, f, engine, **kwds)\u001b[0m\n\u001b[1;32m    946\u001b[0m             \u001b[0mself\u001b[0m\u001b[0;34m.\u001b[0m\u001b[0moptions\u001b[0m\u001b[0;34m[\u001b[0m\u001b[0;34m\"has_index_names\"\u001b[0m\u001b[0;34m]\u001b[0m \u001b[0;34m=\u001b[0m \u001b[0mkwds\u001b[0m\u001b[0;34m[\u001b[0m\u001b[0;34m\"has_index_names\"\u001b[0m\u001b[0;34m]\u001b[0m\u001b[0;34m\u001b[0m\u001b[0;34m\u001b[0m\u001b[0m\n\u001b[1;32m    947\u001b[0m \u001b[0;34m\u001b[0m\u001b[0m\n\u001b[0;32m--> 948\u001b[0;31m         \u001b[0mself\u001b[0m\u001b[0;34m.\u001b[0m\u001b[0m_make_engine\u001b[0m\u001b[0;34m(\u001b[0m\u001b[0mself\u001b[0m\u001b[0;34m.\u001b[0m\u001b[0mengine\u001b[0m\u001b[0;34m)\u001b[0m\u001b[0;34m\u001b[0m\u001b[0;34m\u001b[0m\u001b[0m\n\u001b[0m\u001b[1;32m    949\u001b[0m \u001b[0;34m\u001b[0m\u001b[0m\n\u001b[1;32m    950\u001b[0m     \u001b[0;32mdef\u001b[0m \u001b[0mclose\u001b[0m\u001b[0;34m(\u001b[0m\u001b[0mself\u001b[0m\u001b[0;34m)\u001b[0m\u001b[0;34m:\u001b[0m\u001b[0;34m\u001b[0m\u001b[0;34m\u001b[0m\u001b[0m\n",
            "\u001b[0;32m/usr/local/lib/python3.7/dist-packages/pandas/io/parsers.py\u001b[0m in \u001b[0;36m_make_engine\u001b[0;34m(self, engine)\u001b[0m\n\u001b[1;32m   1178\u001b[0m     \u001b[0;32mdef\u001b[0m \u001b[0m_make_engine\u001b[0m\u001b[0;34m(\u001b[0m\u001b[0mself\u001b[0m\u001b[0;34m,\u001b[0m \u001b[0mengine\u001b[0m\u001b[0;34m=\u001b[0m\u001b[0;34m\"c\"\u001b[0m\u001b[0;34m)\u001b[0m\u001b[0;34m:\u001b[0m\u001b[0;34m\u001b[0m\u001b[0;34m\u001b[0m\u001b[0m\n\u001b[1;32m   1179\u001b[0m         \u001b[0;32mif\u001b[0m \u001b[0mengine\u001b[0m \u001b[0;34m==\u001b[0m \u001b[0;34m\"c\"\u001b[0m\u001b[0;34m:\u001b[0m\u001b[0;34m\u001b[0m\u001b[0;34m\u001b[0m\u001b[0m\n\u001b[0;32m-> 1180\u001b[0;31m             \u001b[0mself\u001b[0m\u001b[0;34m.\u001b[0m\u001b[0m_engine\u001b[0m \u001b[0;34m=\u001b[0m \u001b[0mCParserWrapper\u001b[0m\u001b[0;34m(\u001b[0m\u001b[0mself\u001b[0m\u001b[0;34m.\u001b[0m\u001b[0mf\u001b[0m\u001b[0;34m,\u001b[0m \u001b[0;34m**\u001b[0m\u001b[0mself\u001b[0m\u001b[0;34m.\u001b[0m\u001b[0moptions\u001b[0m\u001b[0;34m)\u001b[0m\u001b[0;34m\u001b[0m\u001b[0;34m\u001b[0m\u001b[0m\n\u001b[0m\u001b[1;32m   1181\u001b[0m         \u001b[0;32melse\u001b[0m\u001b[0;34m:\u001b[0m\u001b[0;34m\u001b[0m\u001b[0;34m\u001b[0m\u001b[0m\n\u001b[1;32m   1182\u001b[0m             \u001b[0;32mif\u001b[0m \u001b[0mengine\u001b[0m \u001b[0;34m==\u001b[0m \u001b[0;34m\"python\"\u001b[0m\u001b[0;34m:\u001b[0m\u001b[0;34m\u001b[0m\u001b[0;34m\u001b[0m\u001b[0m\n",
            "\u001b[0;32m/usr/local/lib/python3.7/dist-packages/pandas/io/parsers.py\u001b[0m in \u001b[0;36m__init__\u001b[0;34m(self, src, **kwds)\u001b[0m\n\u001b[1;32m   2008\u001b[0m         \u001b[0mkwds\u001b[0m\u001b[0;34m[\u001b[0m\u001b[0;34m\"usecols\"\u001b[0m\u001b[0;34m]\u001b[0m \u001b[0;34m=\u001b[0m \u001b[0mself\u001b[0m\u001b[0;34m.\u001b[0m\u001b[0musecols\u001b[0m\u001b[0;34m\u001b[0m\u001b[0;34m\u001b[0m\u001b[0m\n\u001b[1;32m   2009\u001b[0m \u001b[0;34m\u001b[0m\u001b[0m\n\u001b[0;32m-> 2010\u001b[0;31m         \u001b[0mself\u001b[0m\u001b[0;34m.\u001b[0m\u001b[0m_reader\u001b[0m \u001b[0;34m=\u001b[0m \u001b[0mparsers\u001b[0m\u001b[0;34m.\u001b[0m\u001b[0mTextReader\u001b[0m\u001b[0;34m(\u001b[0m\u001b[0msrc\u001b[0m\u001b[0;34m,\u001b[0m \u001b[0;34m**\u001b[0m\u001b[0mkwds\u001b[0m\u001b[0;34m)\u001b[0m\u001b[0;34m\u001b[0m\u001b[0;34m\u001b[0m\u001b[0m\n\u001b[0m\u001b[1;32m   2011\u001b[0m         \u001b[0mself\u001b[0m\u001b[0;34m.\u001b[0m\u001b[0munnamed_cols\u001b[0m \u001b[0;34m=\u001b[0m \u001b[0mself\u001b[0m\u001b[0;34m.\u001b[0m\u001b[0m_reader\u001b[0m\u001b[0;34m.\u001b[0m\u001b[0munnamed_cols\u001b[0m\u001b[0;34m\u001b[0m\u001b[0;34m\u001b[0m\u001b[0m\n\u001b[1;32m   2012\u001b[0m \u001b[0;34m\u001b[0m\u001b[0m\n",
            "\u001b[0;32mpandas/_libs/parsers.pyx\u001b[0m in \u001b[0;36mpandas._libs.parsers.TextReader.__cinit__\u001b[0;34m()\u001b[0m\n",
            "\u001b[0;32mpandas/_libs/parsers.pyx\u001b[0m in \u001b[0;36mpandas._libs.parsers.TextReader._setup_parser_source\u001b[0;34m()\u001b[0m\n",
            "\u001b[0;31mFileNotFoundError\u001b[0m: [Errno 2] No such file or directory: 'dataset/train (1).csv'"
          ]
        }
      ]
    },
    {
      "cell_type": "code",
      "source": [
        "df.info()"
      ],
      "metadata": {
        "id": "orBSCy3DcV61"
      },
      "execution_count": null,
      "outputs": []
    },
    {
      "cell_type": "code",
      "source": [
        "#cek missing values\n",
        "\n",
        "msno.bar(df)\n",
        "plt.show()"
      ],
      "metadata": {
        "id": "YsopwLbFcYlp"
      },
      "execution_count": null,
      "outputs": []
    },
    {
      "cell_type": "code",
      "source": [
        "#B. TARGET VALUE ANALYSIS\n",
        "#understanding the predicted value - which is hot encoded, in real life price won't be hot encoded.\n",
        "df['price_range'].describe(), df['price_range'].unique()\n",
        "\n",
        "# there are 4 classes in the predicted value"
      ],
      "metadata": {
        "id": "leSTFsP4ccIi"
      },
      "execution_count": null,
      "outputs": []
    },
    {
      "cell_type": "code",
      "source": [
        "#correlation matrix with heatmap (mencari korelasi antar features, salah satu teknik features selection)\n",
        "corrmat = df.corr()\n",
        "f,ax = plt.subplots(figsize=(12,10))\n",
        "sns.heatmap(corrmat,vmax=0.8,square=True,annot=True,annot_kws={'size':8})"
      ],
      "metadata": {
        "id": "Ub-1--dMcnLP"
      },
      "execution_count": null,
      "outputs": []
    },
    {
      "cell_type": "code",
      "source": [
        "#price range correlation\n",
        "corrmat.sort_values(by=[\"price_range\"],ascending=False).iloc[0].sort_values(ascending=False)"
      ],
      "metadata": {
        "id": "7YoxoPa5dAC7"
      },
      "execution_count": null,
      "outputs": []
    },
    {
      "cell_type": "code",
      "source": [
        "f, ax = plt.subplots(figsize=(10,4))\n",
        "plt.scatter(y=df['price_range'],x=df['battery_power'],color='red')\n",
        "plt.scatter(y=df['price_range'],x=df['ram'],color='Green')\n",
        "plt.scatter(y=df['price_range'],x=df['n_cores'],color='blue')\n",
        "plt.scatter(y=df['price_range'],x=df['mobile_wt'],color='orange')\n",
        "# clearly we can see that each of the category has different set of value ranges "
      ],
      "metadata": {
        "id": "u0QPOJfQdBcn"
      },
      "execution_count": null,
      "outputs": []
    },
    {
      "cell_type": "code",
      "source": [
        "y = np.array(df['price_range'])\n",
        "X = df\n",
        "X = df.drop(['price_range'],axis=1)\n",
        "X = np.array(X)\n",
        "\n",
        "print(\"shape of Y :\"+str(y.shape))\n",
        "print(\"shape of X :\"+str(X.shape))\n",
        "\n",
        "from sklearn.preprocessing import MinMaxScaler #(scaling rentang 0-1)\n",
        "scaler = MinMaxScaler()\n",
        "X_train = scaler.fit_transform(X)"
      ],
      "metadata": {
        "id": "eaFjdXlxdDkt"
      },
      "execution_count": null,
      "outputs": []
    },
    {
      "cell_type": "code",
      "source": [
        "X_train,X_test,Y_train,Y_test = train_test_split(X,y,test_size=.20,random_state=42)\n",
        "print(\"shape of X Train :\"+str(X_train.shape))\n",
        "print(\"shape of X Test :\"+str(X_test.shape))\n",
        "print(\"shape of Y Train :\"+str(Y_train.shape))\n",
        "print(\"shape of Y Test :\"+str(Y_test.shape))"
      ],
      "metadata": {
        "id": "l5_UbVx3dED0"
      },
      "execution_count": null,
      "outputs": []
    },
    {
      "cell_type": "code",
      "source": [
        "for this_C in [1,3,5,10,40,60,80,100]: #parameter C di SVM Linier\n",
        "    clf = SVC(kernel='linear',C=this_C).fit(X_train,Y_train) #clf = cross validate metrics for evaluating classification\n",
        "    scoretrain = clf.score(X_train,Y_train)\n",
        "    scoretest  = clf.score(X_test,Y_test)\n",
        "    print(\"Linear SVM value of C:{}, training score :{:2f} , Test Score: {:2f} \\n\".format(this_C,scoretrain,scoretest))"
      ],
      "metadata": {
        "id": "1uwQqnrvdGdA"
      },
      "execution_count": null,
      "outputs": []
    },
    {
      "cell_type": "code",
      "source": [
        "clf1 = SVC(kernel='linear',C=20).fit(X_train,Y_train)\n",
        "scores = cross_val_score(clf1,X_train,Y_train,cv=5)\n",
        "strat_scores = cross_val_score(clf1,X_train,Y_train,cv=StratifiedKFold(5,random_state=10,shuffle=True))\n",
        "#Loo = LeaveOneOut()\n",
        "#Loo_scores = cross_val_score(clf1,X_train,Y_train,cv=Loo)\n",
        "print(\"The Cross Validation Score :\"+str(scores))\n",
        "print(\"The Average Cross Validation Score :\"+str(scores.mean()))\n",
        "print(\"The Stratified Cross Validation Score :\"+str(strat_scores))\n",
        "print(\"The Average Stratified Cross Validation Score :\"+str(strat_scores.mean()))\n",
        "#print(\"The LeaveOneOut Cross Validation Score :\"+str(Loo_scores))\n",
        "#print(\"The Average LeaveOneOut Cross Validation Score :\"+str(Loo_scores.mean()))"
      ],
      "metadata": {
        "id": "bPt2JXu0dHld"
      },
      "execution_count": null,
      "outputs": []
    },
    {
      "cell_type": "code",
      "source": [
        "for strat in ['stratified', 'most_frequent', 'prior', 'uniform']:\n",
        "    dummy_maj = DummyClassifier(strategy=strat).fit(X_train,Y_train)\n",
        "    print(\"Train Stratergy :{} \\n Score :{:.2f}\".format(strat,dummy_maj.score(X_train,Y_train)))\n",
        "    print(\"Test Stratergy :{} \\n Score :{:.2f}\".format(strat,dummy_maj.score(X_test,Y_test)))"
      ],
      "metadata": {
        "id": "tZBaMp7IdIsA"
      },
      "execution_count": null,
      "outputs": []
    },
    {
      "cell_type": "code",
      "source": [
        "# plotting the decision boundries for the data \n",
        "#converting the data to array for plotting. \n",
        "X = np.array(df.iloc[:,[0,13]])\n",
        "y = np.array(df['price_range'])\n",
        "print(\"Shape of X:\"+str(X.shape))\n",
        "print(\"Shape of y:\"+str(y.shape))\n",
        "X = scaler.fit_transform(X)"
      ],
      "metadata": {
        "id": "CEC92PJDdJIF"
      },
      "execution_count": null,
      "outputs": []
    },
    {
      "cell_type": "code",
      "source": [
        "# custome color maps\n",
        "cm_dark = ListedColormap(['#ff6060', '#8282ff','#ffaa00','#fff244','#4df9b9','#76e8fc','#3ad628'])\n",
        "cm_bright = ListedColormap(['#ffafaf', '#c6c6ff','#ffaa00','#ffe2a8','#bfffe7','#c9f7ff','#9eff93'])"
      ],
      "metadata": {
        "id": "HB7k78PXdKrv"
      },
      "execution_count": null,
      "outputs": []
    },
    {
      "cell_type": "code",
      "source": [
        "plt.scatter(X[:,0],X[:,1],c=y,cmap=cm_dark,s=10,label=y)\n",
        "plt.show()"
      ],
      "metadata": {
        "id": "m9m_RsYDdNvp"
      },
      "execution_count": null,
      "outputs": []
    },
    {
      "cell_type": "code",
      "source": [
        "h = .02  # step size in the mesh\n",
        "C_param = 1 # No of neighbours\n",
        "for weights in ['uniform', 'distance']:\n",
        "    # we create an instance of Neighbours Classifier and fit the data.\n",
        "    clf1 = SVC(kernel='linear',C=C_param)\n",
        "    clf1.fit(X, y)\n",
        "\n",
        "    # Plot the decision boundary. For that, we will assign a color to each\n",
        "    # point in the mesh [x_min, x_max]x[y_min, y_max].\n",
        "    x_min, x_max = X[:, 0].min()-.20, X[:, 0].max()+.20\n",
        "    y_min, y_max = X[:, 1].min()-.20, X[:, 1].max()+.20\n",
        "    xx, yy = np.meshgrid(np.arange(x_min, x_max, h),\n",
        "                         np.arange(y_min, y_max, h))\n",
        "    Z = clf1.predict(np.c_[xx.ravel(), yy.ravel()])   # ravel to flatten the into 1D and c_ to concatenate \n",
        "\n",
        "    # Put the result into a color plot\n",
        "    Z = Z.reshape(xx.shape)\n",
        "    plt.figure()\n",
        "    plt.pcolormesh(xx, yy, Z, cmap=cm_bright)\n",
        "\n",
        "    # Plot also the training points\n",
        "    plt.scatter(X[:, 0], X[:, 1], c=y, cmap=cm_dark,\n",
        "                edgecolor='k', s=20)\n",
        "    plt.xlim(xx.min(), xx.max())\n",
        "    plt.ylim(yy.min(), yy.max())\n",
        "    plt.title(\"SVM Linear Classification (kernal = linear, Gamma = '%s')\"% (C_param))\n",
        "\n",
        "plt.show()"
      ],
      "metadata": {
        "id": "JbF-iW7sdNoC"
      },
      "execution_count": null,
      "outputs": []
    },
    {
      "cell_type": "code",
      "source": [
        "print(\"The score of the above :\"+str(clf1.score(X,y)))"
      ],
      "metadata": {
        "id": "964OqK7ldNgs"
      },
      "execution_count": null,
      "outputs": []
    },
    {
      "cell_type": "code",
      "source": [
        "for this_C in [1,3,5,10,40,60,80,100]:\n",
        "    clf2 = LinearSVC(C=this_C).fit(X_train,Y_train)\n",
        "    scoretrain = clf2.score(X_train,Y_train)\n",
        "    scoretest  = clf2.score(X_test,Y_test)\n",
        "    print(\"Linear SVM value of C:{}, training score :{:2f} , Test Score: {:2f} \\n\".format(this_C,scoretrain,scoretest))"
      ],
      "metadata": {
        "id": "d7Kg7cuSdgVY"
      },
      "execution_count": null,
      "outputs": []
    },
    {
      "cell_type": "code",
      "source": [
        "svr = SVR(kernel='linear',C=1,epsilon=.01).fit(X_train,Y_train)\n",
        "print(\"{:.2f} is the accuracy of the SV Regressor\".format(svr.score(X_train,Y_train)))"
      ],
      "metadata": {
        "id": "-ZwTAxvYdhj1"
      },
      "execution_count": null,
      "outputs": []
    },
    {
      "cell_type": "code",
      "source": [
        "#NON LINIER SVM\n",
        "# SMV with RBF KERNAL AND ONLY C PARAMETER \n",
        "\n",
        "for this_C in [1,5,10,25,50,100]:\n",
        "    clf3 = SVC(kernel='rbf',C=this_C).fit(X_train,Y_train)\n",
        "    clf3train = clf3.score(X_train,Y_train)\n",
        "    clf3test  = clf3.score(X_test,Y_test)\n",
        "    print(\"SVM for Non Linear \\n C:{} Training Score : {:2f} Test Score : {:2f}\\n\".format(this_C,clf3train,clf3test))"
      ],
      "metadata": {
        "id": "gM-Xsvdmdi9L"
      },
      "execution_count": null,
      "outputs": []
    },
    {
      "cell_type": "code",
      "source": [
        "# SVM WITH RBF KERNAL, C AND GAMMA HYPERPARAMTER \n",
        "for this_gamma in [.1,.5,.10,.25,.50,1]:\n",
        "    for this_C in [1,5,7,10,15,25,50]:\n",
        "        clf3 = SVC(kernel='rbf',C=this_C,gamma=this_gamma).fit(X_train,Y_train)\n",
        "        clf3train = clf3.score(X_train,Y_train)\n",
        "        clf3test  = clf3.score(X_test,Y_test)\n",
        "        print(\"SVM for Non Linear \\n Gamma: {} C:{} Training Score : {:2f} Test Score : {:2f}\\n\".format(this_gamma,this_C,clf3train,clf3test))"
      ],
      "metadata": {
        "id": "-HcxP9ngdkOg"
      },
      "execution_count": null,
      "outputs": []
    },
    {
      "cell_type": "code",
      "source": [
        "# grid search method \n",
        "\n",
        "param_grid = {'C': [1,5,7,10,15,25,50],\n",
        "              'gamma': [.1,.5,.10,.25,.50,1]}\n",
        "GS = GridSearchCV(SVC(kernel='rbf'),param_grid,cv=5)"
      ],
      "metadata": {
        "id": "NLpCVMOMdlub"
      },
      "execution_count": null,
      "outputs": []
    },
    {
      "cell_type": "code",
      "source": [
        "GS.fit(X_train,Y_train"
      ],
      "metadata": {
        "id": "X-exShHednh4"
      },
      "execution_count": null,
      "outputs": []
    },
    {
      "cell_type": "code",
      "source": [
        "print(\"the parameters {} are the best.\".format(GS.best_params_))\n",
        "print(\"the best score is {:.2f}.\".format(GS.best_score_))"
      ],
      "metadata": {
        "id": "C7YrVBindoki"
      },
      "execution_count": null,
      "outputs": []
    },
    {
      "cell_type": "code",
      "source": [
        "# Kernalized SVM machine \n",
        "svr2 = SVR(degree=2,C=100,epsilon=.01).fit(X_train,Y_train)\n",
        "print(\"{:.2f} is the accuracy of the SV Regressor\".format(svr2.score(X_train,Y_train)))"
      ],
      "metadata": {
        "id": "qwI912pcdpyJ"
      },
      "execution_count": null,
      "outputs": []
    },
    {
      "cell_type": "code",
      "source": [
        "test = test.drop(['id'],axis=1)\n",
        "test.head()test_mat = np.array(test)\n",
        "test = scaler.fit_transform(test_mat)"
      ],
      "metadata": {
        "id": "Y3TsaDVldq3J"
      },
      "execution_count": null,
      "outputs": []
    },
    {
      "cell_type": "code",
      "source": [
        "clf4 = SVC(kernel='rbf',C=25,gamma=.1).fit(X_train,Y_train)\n",
        "prediction = clf4.predict(test_mat)\n",
        "pred = pd.DataFrame(prediction)\n",
        "pred.head()\n",
        "pred.info()"
      ],
      "metadata": {
        "id": "SnQIOCA3ds-y"
      },
      "execution_count": null,
      "outputs": []
    },
    {
      "cell_type": "code",
      "source": [
        "prediction = svr2.predict(test_mat)\n",
        "pred = pd.DataFrame(prediction)\n",
        "pred.head()"
      ],
      "metadata": {
        "id": "aPq5bsqJdt-m"
      },
      "execution_count": null,
      "outputs": []
    }
  ]
}